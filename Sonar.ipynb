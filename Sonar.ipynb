{
  "nbformat": 4,
  "nbformat_minor": 0,
  "metadata": {
    "colab": {
      "provenance": []
    },
    "kernelspec": {
      "name": "python3",
      "display_name": "Python 3"
    },
    "language_info": {
      "name": "python"
    }
  },
  "cells": [
    {
      "cell_type": "code",
      "execution_count": 1,
      "metadata": {
        "id": "Og4ANwx0mDwQ"
      },
      "outputs": [],
      "source": [
        "import numpy as np\n",
        "import pandas as pd\n",
        "from sklearn.model_selection import train_test_split\n",
        "from sklearn.linear_model import LogisticRegression\n",
        "from sklearn.metrics import accuracy_score"
      ]
    },
    {
      "cell_type": "code",
      "source": [
        "sonar_data = pd.read_csv('sonar data.csv', header=None)\n",
        "X=sonar_data.drop(columns=60, axis=1)\n",
        "Y=sonar_data[60]\n",
        "X_train, X_test, Y_train, Y_test = train_test_split(X, Y, test_size=0.1,stratify=Y, random_state=42)\n",
        "model=LogisticRegression()\n",
        "model.fit(X_train, Y_train)\n",
        "X_train_prediction = model.predict(X_train)\n",
        "training_data_accuracy = accuracy_score(X_train_prediction, Y_train)\n",
        "print('Accuracy on training data : ', training_data_accuracy)\n",
        "X_test_prediction = model.predict(X_test)\n",
        "test_data_accuracy = accuracy_score(X_test_prediction, Y_test)\n",
        "print('Accuracy on test data : ', test_data_accuracy)\n"
      ],
      "metadata": {
        "colab": {
          "base_uri": "https://localhost:8080/"
        },
        "id": "kmWNgdBRpXn7",
        "outputId": "353bd7f0-1f3c-4c7f-e63c-e89ad1a062c7"
      },
      "execution_count": 5,
      "outputs": [
        {
          "output_type": "stream",
          "name": "stdout",
          "text": [
            "Accuracy on training data :  0.8235294117647058\n",
            "Accuracy on test data :  0.8571428571428571\n"
          ]
        }
      ]
    },
    {
      "cell_type": "code",
      "source": [
        "input_data = (0.0209, 0.0261, 0.012, 0.0768, 0.1064, 0.168, 0.3016, 0.346, 0.3314, 0.4125, 0.3943, 0.1334, 0.4622, 0.997, 0.9137, 0.8292, 0.6994, 0.7825, 0.8789, 0.8501, 0.892, 0.9473, 1, 0.8975, 0.7806, 0.8321, 0.6502, 0.4548, 0.4732, 0.3391, 0.2747, 0.0978, 0.0477, 0.1403, 0.1834, 0.2148, 0.1271, 0.1912, 0.3391, 0.3444, 0.2369, 0.1195, 0.2665, 0.2587, 0.1393, 0.1083, 0.1383, 0.1321, 0.1069, 0.0325, 0.0316, 0.0057, 0.0159, 0.0085, 0.0372, 0.0101, 0.0127, 0.0288, 0.0129, 0.0023)\n",
        "input_data_as_numpy_array = np.asarray(input_data)\n",
        "input_data_reshaped = input_data_as_numpy_array.reshape(1,-1)\n",
        "prediction = model.predict(input_data_reshaped)\n",
        "#print(prediction)\n",
        "if (prediction[0]=='R'):\n",
        "  print('The object is a Rock')\n",
        "else:\n",
        "  print('The object is a mine')"
      ],
      "metadata": {
        "colab": {
          "base_uri": "https://localhost:8080/"
        },
        "id": "IYbeJYOTyo2d",
        "outputId": "6e9c6cd8-8192-4c76-a40e-cc89a60ffc57"
      },
      "execution_count": 7,
      "outputs": [
        {
          "output_type": "stream",
          "name": "stdout",
          "text": [
            "The object is a mine\n"
          ]
        }
      ]
    },
    {
      "cell_type": "code",
      "source": [],
      "metadata": {
        "id": "JwB883Hu_P-U"
      },
      "execution_count": null,
      "outputs": []
    }
  ]
}